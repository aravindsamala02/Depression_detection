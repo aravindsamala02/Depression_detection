{
  "nbformat": 4,
  "nbformat_minor": 0,
  "metadata": {
    "colab": {
      "name": "Model.ipynb",
      "provenance": [],
      "mount_file_id": "11Egr4PAQfiCcq8J_gBIyTFiJbUn1X83a",
      "authorship_tag": "ABX9TyNPzQX7Rv/PsEckd9/f2CSg",
      "include_colab_link": true
    },
    "kernelspec": {
      "name": "python3",
      "display_name": "Python 3"
    },
    "accelerator": "GPU"
  },
  "cells": [
    {
      "cell_type": "markdown",
      "metadata": {
        "id": "view-in-github",
        "colab_type": "text"
      },
      "source": [
        "<a href=\"https://colab.research.google.com/github/thyaravind/Depression_detection/blob/master/Model.ipynb\" target=\"_parent\"><img src=\"https://colab.research.google.com/assets/colab-badge.svg\" alt=\"Open In Colab\"/></a>"
      ]
    },
    {
      "cell_type": "code",
      "metadata": {
        "id": "d5PCbz7ghpEJ",
        "outputId": "b72e0a20-27c2-4386-dfee-ede89a869da4",
        "colab": {
          "base_uri": "https://localhost:8080/",
          "height": 35
        }
      },
      "source": [
        "import tensorflow as tf\n",
        "tf.test.gpu_device_name()"
      ],
      "execution_count": null,
      "outputs": [
        {
          "output_type": "execute_result",
          "data": {
            "application/vnd.google.colaboratory.intrinsic+json": {
              "type": "string"
            },
            "text/plain": [
              "'/device:GPU:0'"
            ]
          },
          "metadata": {
            "tags": []
          },
          "execution_count": 1
        }
      ]
    },
    {
      "cell_type": "code",
      "metadata": {
        "id": "Crs9tkDbjKDI",
        "outputId": "d6055c71-b64a-4952-caca-83a654acc034",
        "colab": {
          "base_uri": "https://localhost:8080/",
          "height": 544
        }
      },
      "source": [
        "'''Trains a simple convnet on the MNIST dataset.\n",
        "Gets to 99.25% test accuracy after 12 epochs\n",
        "(there is still a lot of margin for parameter tuning).\n",
        "16 seconds per epoch on a GRID K520 GPU.\n",
        "'''\n",
        "\n",
        "from __future__ import print_function\n",
        "import keras\n",
        "from keras.datasets import mnist\n",
        "from keras.models import Sequential\n",
        "from keras.layers import Dense, Dropout, Flatten\n",
        "from keras.layers import Conv2D, MaxPooling2D\n",
        "from keras import backend as K\n",
        "\n",
        "batch_size = 128\n",
        "num_classes = 10\n",
        "epochs = 12\n",
        "\n",
        "# input image dimensions\n",
        "img_rows, img_cols = 28, 28\n",
        "\n",
        "# the data, split between train and test sets\n",
        "(x_train, y_train), (x_test, y_test) = mnist.load_data()\n",
        "\n",
        "if K.image_data_format() == 'channels_first':\n",
        "    x_train = x_train.reshape(x_train.shape[0], 1, img_rows, img_cols)\n",
        "    x_test = x_test.reshape(x_test.shape[0], 1, img_rows, img_cols)\n",
        "    input_shape = (1, img_rows, img_cols)\n",
        "else:\n",
        "    x_train = x_train.reshape(x_train.shape[0], img_rows, img_cols, 1)\n",
        "    x_test = x_test.reshape(x_test.shape[0], img_rows, img_cols, 1)\n",
        "    input_shape = (img_rows, img_cols, 1)\n",
        "\n",
        "x_train = x_train.astype('float32')\n",
        "x_test = x_test.astype('float32')\n",
        "x_train /= 255\n",
        "x_test /= 255\n",
        "print('x_train shape:', x_train.shape)\n",
        "print(x_train.shape[0], 'train samples')\n",
        "print(x_test.shape[0], 'test samples')\n",
        "\n",
        "# convert class vectors to binary class matrices\n",
        "y_train = keras.utils.to_categorical(y_train, num_classes)\n",
        "y_test = keras.utils.to_categorical(y_test, num_classes)\n",
        "\n",
        "model = Sequential()\n",
        "model.add(Conv2D(32, kernel_size=(3, 3),\n",
        "                 activation='relu',\n",
        "                 input_shape=input_shape))\n",
        "model.add(Conv2D(64, (3, 3), activation='relu'))\n",
        "model.add(MaxPooling2D(pool_size=(2, 2)))\n",
        "model.add(Dropout(0.25))\n",
        "model.add(Flatten())\n",
        "model.add(Dense(128, activation='relu'))\n",
        "model.add(Dropout(0.5))\n",
        "model.add(Dense(num_classes, activation='softmax'))\n",
        "\n",
        "model.compile(loss=keras.losses.categorical_crossentropy,\n",
        "              optimizer=keras.optimizers.Adadelta(),\n",
        "              metrics=['accuracy'])\n",
        "\n",
        "model.fit(x_train, y_train,\n",
        "          batch_size=batch_size,\n",
        "          epochs=epochs,\n",
        "          verbose=1,\n",
        "          validation_data=(x_test, y_test))\n",
        "score = model.evaluate(x_test, y_test, verbose=0)\n",
        "print('Test loss:', score[0])\n",
        "print('Test accuracy:', score[1])"
      ],
      "execution_count": null,
      "outputs": [
        {
          "output_type": "stream",
          "text": [
            "Downloading data from https://storage.googleapis.com/tensorflow/tf-keras-datasets/mnist.npz\n",
            "11493376/11490434 [==============================] - 0s 0us/step\n",
            "x_train shape: (60000, 28, 28, 1)\n",
            "60000 train samples\n",
            "10000 test samples\n",
            "Epoch 1/12\n",
            "469/469 [==============================] - 4s 9ms/step - loss: 2.2913 - accuracy: 0.1309 - val_loss: 2.2560 - val_accuracy: 0.2593\n",
            "Epoch 2/12\n",
            "469/469 [==============================] - 4s 8ms/step - loss: 2.2355 - accuracy: 0.2420 - val_loss: 2.1901 - val_accuracy: 0.5328\n",
            "Epoch 3/12\n",
            "469/469 [==============================] - 4s 8ms/step - loss: 2.1674 - accuracy: 0.3469 - val_loss: 2.1058 - val_accuracy: 0.6427\n",
            "Epoch 4/12\n",
            "469/469 [==============================] - 4s 8ms/step - loss: 2.0796 - accuracy: 0.4224 - val_loss: 1.9932 - val_accuracy: 0.6824\n",
            "Epoch 5/12\n",
            "469/469 [==============================] - 4s 8ms/step - loss: 1.9624 - accuracy: 0.4875 - val_loss: 1.8451 - val_accuracy: 0.7200\n",
            "Epoch 6/12\n",
            "469/469 [==============================] - 4s 8ms/step - loss: 1.8205 - accuracy: 0.5391 - val_loss: 1.6655 - val_accuracy: 0.7503\n",
            "Epoch 7/12\n",
            "469/469 [==============================] - 4s 8ms/step - loss: 1.6557 - accuracy: 0.5869 - val_loss: 1.4670 - val_accuracy: 0.7728\n",
            "Epoch 8/12\n",
            "469/469 [==============================] - 4s 8ms/step - loss: 1.4910 - accuracy: 0.6186 - val_loss: 1.2723 - val_accuracy: 0.7896\n",
            "Epoch 9/12\n",
            "469/469 [==============================] - 4s 8ms/step - loss: 1.3359 - accuracy: 0.6489 - val_loss: 1.1015 - val_accuracy: 0.8031\n",
            "Epoch 10/12\n",
            "469/469 [==============================] - 4s 8ms/step - loss: 1.2075 - accuracy: 0.6712 - val_loss: 0.9632 - val_accuracy: 0.8149\n",
            "Epoch 11/12\n",
            "469/469 [==============================] - 4s 8ms/step - loss: 1.1035 - accuracy: 0.6926 - val_loss: 0.8557 - val_accuracy: 0.8254\n",
            "Epoch 12/12\n",
            "469/469 [==============================] - 4s 8ms/step - loss: 1.0244 - accuracy: 0.7075 - val_loss: 0.7725 - val_accuracy: 0.8356\n",
            "Test loss: 0.7725396752357483\n",
            "Test accuracy: 0.8356000185012817\n"
          ],
          "name": "stdout"
        }
      ]
    },
    {
      "cell_type": "code",
      "metadata": {
        "id": "D801uDr3kUJt"
      },
      "source": [
        "import pickle\n",
        "import json\n",
        "import pandas as pd\n",
        "import matplotlib.pyplot as plt\n"
      ],
      "execution_count": null,
      "outputs": []
    },
    {
      "cell_type": "code",
      "metadata": {
        "id": "P1kZWKSrlFup"
      },
      "source": [
        "with open('/content/drive/Shared drives/EPICS - Project/Model_Files/SpecMat.pkl','rb') as f:\n",
        "    Spec = pickle.load(f)"
      ],
      "execution_count": null,
      "outputs": []
    },
    {
      "cell_type": "code",
      "metadata": {
        "id": "gJld4behkyzK"
      },
      "source": [
        "Spec['303'].shape"
      ],
      "execution_count": null,
      "outputs": []
    },
    {
      "cell_type": "code",
      "metadata": {
        "id": "Xv8E6woskyjF"
      },
      "source": [
        "fig = plt.figure()\n",
        "plt.plot(Spec['303'][1])"
      ],
      "execution_count": null,
      "outputs": []
    },
    {
      "cell_type": "code",
      "metadata": {
        "id": "FExm11_vmui0",
        "outputId": "b238b555-ec8d-4c2e-c833-87d64f247f15",
        "colab": {
          "base_uri": "https://localhost:8080/",
          "height": 119
        }
      },
      "source": [
        "!git clone https://github.com/thyaravind/Depression_detection.git"
      ],
      "execution_count": null,
      "outputs": [
        {
          "output_type": "stream",
          "text": [
            "Cloning into 'Depression_detection'...\n",
            "remote: Enumerating objects: 42, done.\u001b[K\n",
            "remote: Counting objects: 100% (42/42), done.\u001b[K\n",
            "remote: Compressing objects: 100% (36/36), done.\u001b[K\n",
            "remote: Total 42 (delta 8), reused 32 (delta 3), pack-reused 0\u001b[K\n",
            "Unpacking objects: 100% (42/42), done.\n"
          ],
          "name": "stdout"
        }
      ]
    },
    {
      "cell_type": "code",
      "metadata": {
        "id": "9pW4TH8pnwag",
        "outputId": "f457e5be-2fc0-49ca-a74f-7a9cbe73c335",
        "colab": {
          "base_uri": "https://localhost:8080/",
          "height": 34
        }
      },
      "source": [
        "!git add ."
      ],
      "execution_count": null,
      "outputs": [
        {
          "output_type": "stream",
          "text": [
            "fatal: not a git repository (or any of the parent directories): .git\n"
          ],
          "name": "stdout"
        }
      ]
    }
  ]
}
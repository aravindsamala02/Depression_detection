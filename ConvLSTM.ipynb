{
 "cells": [
  {
   "cell_type": "code",
   "execution_count": 1,
   "metadata": {},
   "outputs": [],
   "source": [
    "from keras.layers import ConvLSTM2D, Bidirectional, BatchNormalization, Conv3D, Cropping3D, ZeroPadding3D\n",
    "from keras.models import Sequential"
   ]
  },
  {
   "cell_type": "code",
   "execution_count": null,
   "metadata": {},
   "outputs": [],
   "source": [
    "def ConvLSTM_Model(frames, channels, pixels_x, pixels_y, categories):\n",
    "  \n",
    "    trailer_input  = Input(shape=(frames, channels, pixels_x, pixels_y)\n",
    "                    , name='trailer_input')\n",
    "    \n",
    "    first_ConvLSTM = ConvLSTM2D(filters=20, kernel_size=(3, 3)\n",
    "                       , data_format='channels_first'\n",
    "                       , recurrent_activation='hard_sigmoid'\n",
    "                       , activation='tanh'\n",
    "                       , padding='same', return_sequences=True)(trailer_input)\n",
    "    first_BatchNormalization = BatchNormalization()(first_ConvLSTM)\n",
    "    first_Pooling = MaxPooling3D(pool_size=(1, 2, 2), padding='same', data_format='channels_first')(first_BatchNormalization)\n",
    "    \n",
    "    second_ConvLSTM = ConvLSTM2D(filters=10, kernel_size=(3, 3)\n",
    "                        , data_format='channels_first'\n",
    "                        , padding='same', return_sequences=True)(first_Pooling)\n",
    "    second_BatchNormalization = BatchNormalization()(second_ConvLSTM)\n",
    "    second_Pooling = MaxPooling3D(pool_size=(1, 3, 3), padding='same', data_format='channels_first')(second_BatchNormalization)\n",
    "    \n",
    "    outputs = [branch(second_Pooling, 'cat_{}'.format(category)) for category in categories]\n",
    "    \n",
    "    seq = Model(inputs=trailer_input, outputs=outputs, name='Model ')\n",
    "    \n",
    "    return seq\n",
    "\n",
    "def branch(last_convlstm_layer, name):\n",
    "  \n",
    "    branch_ConvLSTM = ConvLSTM2D(filters=5, kernel_size=(3, 3)\n",
    "                        , data_format='channels_first'\n",
    "                        , stateful = False\n",
    "                        , kernel_initializer='random_uniform'\n",
    "                        , padding='same', return_sequences=True)(last_convlstm_layer)\n",
    "    branch_Pooling = MaxPooling3D(pool_size=(1, 2, 2), padding='same', data_format='channels_first')(branch_ConvLSTM)\n",
    "    flat_layer = TimeDistributed(Flatten())(branch_Pooling)\n",
    "    \n",
    "    first_Dense = TimeDistributed(Dense(512,))(flat_layer)\n",
    "    second_Dense = TimeDistributed(Dense(32,))(first_Dense)\n",
    "    \n",
    "    target = TimeDistributed(Dense(1), name=name)(second_Dense)\n",
    "    \n",
    "    return target"
   ]
  },
  {
   "cell_type": "code",
   "execution_count": null,
   "metadata": {},
   "outputs": [],
   "source": [
    "model = Sequential()\n",
    "model.add(BatchNormalization(input_shape = (None, None, None, 1)))\n",
    "model.add(Conv3D(8, \n",
    "                     kernel_size = (1, 5, 5), \n",
    "                     padding = 'same',\n",
    "                     activation = 'relu'))\n",
    "model.add(Conv3D(8, \n",
    "                     kernel_size = (3, 3, 3), \n",
    "                     padding = 'same',\n",
    "                     activation = 'relu'))\n",
    "model.add(BatchNormalization())\n",
    "model.add(Bidirectional(ConvLSTM2D(16, \n",
    "                                       kernel_size = (3, 3),\n",
    "                                       padding = 'same',\n",
    "                                       return_sequences = True)))\n",
    "model.add(Bidirectional(ConvLSTM2D(32, \n",
    "                                       kernel_size = (3, 3),\n",
    "                                       padding = 'same',\n",
    "                                       return_sequences = True)))\n",
    "model.add(Conv3D(8, \n",
    "                     kernel_size = (1, 3, 3), \n",
    "                     padding = 'same',\n",
    "                     activation = 'relu'))\n",
    "model.add(Conv3D(1, \n",
    "                     kernel_size = (1,1,1), \n",
    "                     activation = 'sigmoid'))\n",
    "model.add(Cropping3D((1, 2, 2))) # avoid skewing boundaries\n",
    "model.add(ZeroPadding3D((1, 2, 2)))\n",
    "model.summary()"
   ]
  }
 ],
 "metadata": {
  "kernelspec": {
   "display_name": "Python 3",
   "language": "python",
   "name": "python3"
  },
  "language_info": {
   "codemirror_mode": {
    "name": "ipython",
    "version": 3
   },
   "file_extension": ".py",
   "mimetype": "text/x-python",
   "name": "python",
   "nbconvert_exporter": "python",
   "pygments_lexer": "ipython3",
   "version": "3.7.6"
  }
 },
 "nbformat": 4,
 "nbformat_minor": 4
}
